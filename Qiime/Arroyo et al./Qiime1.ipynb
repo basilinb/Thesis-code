{
 "cells": [
  {
   "cell_type": "markdown",
   "metadata": {},
   "source": [
    "# Analysis through Qiime1"
   ]
  },
  {
   "cell_type": "code",
   "execution_count": 1,
   "metadata": {},
   "outputs": [],
   "source": [
    "!validate_mapping_file.py -o exp12_mapping_file_format_results/ -m mapping_file_cohousing2018.tsv"
   ]
  },
  {
   "cell_type": "markdown",
   "metadata": {},
   "source": [
    "### Preparing raw illumina sequences prior to demultiplexing and quality filtering\n",
    "Prior to using the split_libraries_fastq python script, you need to already have the mapping file, sequence reads (fastq.gz), and barcode reads (fastq.gz)"
   ]
  },
  {
   "cell_type": "markdown",
   "metadata": {},
   "source": [
    "### Extracing barcodes\n",
    "The following is entered through the terminal. \n",
    "Backward slashes are used so you do not have to enter everything on line in the terminal.\n",
    "#### Before running the code, make a dedicated folder for holding everything (ie. pellet-removal-qiime-analysis). When you download the sequences, they will be in two gz files and within multiple folders. Simply move the gz files into the dedicated folder, this will just make it easier to work with. Also have the metadata file in that dedicated folder as well, to make things easier as well."
   ]
  },
  {
   "cell_type": "code",
   "execution_count": 5,
   "metadata": {},
   "outputs": [],
   "source": [
    "!extract_barcodes.py \\\n",
    "-f PT-pool-2_S1_L001_R1_001.fastq.gz \\\n",
    "-c barcode_single_end \\\n",
    "--bc1_len 12 \\\n",
    "-o processed_seqs"
   ]
  },
  {
   "cell_type": "markdown",
   "metadata": {},
   "source": [
    "### Processing Illumina Data - Demultiplexing and quality filtering through the split_libraries_fastq.py script\n",
    "This will demultiplex and quality filter our data.\n",
    "For our case, since they are reverse barcoded they are not considered golay barcodes so you have to specify that the barcode_type is 12. This does not take a lot of time (30 minutes)"
   ]
  },
  {
   "cell_type": "code",
   "execution_count": 6,
   "metadata": {},
   "outputs": [],
   "source": [
    "!split_libraries_fastq.py \\\n",
    "-o split_libraries_output/ \\\n",
    "-i processed_seqs/reads.fastq \\\n",
    "-b processed_seqs/barcodes.fastq \\\n",
    "-m pcos_mapping.tsv \\\n",
    "--barcode_type 12"
   ]
  },
  {
   "cell_type": "markdown",
   "metadata": {},
   "source": [
    "### Working with demultiplexed sequences - Need to cluster the sequences using a denovo OTU approach. \n",
    "This script takes a sequence file and performs all processing steps through building the OTU table.\n",
    "This script will produce an OTU mapping file (pick_otus.py), a representative set of sequences (FASTA file from pick_rep_set.py), a sequence alignment file (FASTA file from align_seqs.py), taxonomy assignment file (from assign_taxonomy.py), a filtered sequence alignment (from filter_alignment.py), a phylogenetic tree (Newick file from make_phylogeny.py) and a biom-formatted OTU table (from make_otu_table.py)."
   ]
  },
  {
   "cell_type": "code",
   "execution_count": 7,
   "metadata": {},
   "outputs": [],
   "source": [
    "#Creating OTUs thru the de novo method.\n",
    "#-a makes it run in parallel\n",
    "#-O means we will use 4 cores\n",
    "#-i is the filtered demultiplexed sequences that we want to make OTUs out of\n",
    "#--output_dir is the folder that you want to output the OTUs to\n",
    "!pick_de_novo_otus.py \\\n",
    "-i split_libraries_output/seqs.fna \\\n",
    "--output_dir uclust_otu/ \\\n",
    "-a \\\n",
    "-O 4"
   ]
  },
  {
   "cell_type": "code",
   "execution_count": 8,
   "metadata": {},
   "outputs": [],
   "source": [
    "# Summarizing the results from the OTUs\n",
    "!biom summarize-table -i uclust_otu/otu_table.biom -o uclust_otu/otu_table_summary.txt"
   ]
  },
  {
   "cell_type": "code",
   "execution_count": 10,
   "metadata": {},
   "outputs": [],
   "source": [
    "#Filtering out any OTUs that rarely pop up across all the samples\n",
    "#I have 95 total samples (this includes the 2 controls)\n",
    "#since we want to filter out any OTUs that do not show up at least 25% of the samples, we will set \n",
    "#s as the number of samples that equals 25% of total samples (it was 24)\n",
    "#-s is The minimum number of samples an OTU must be observed in for that otu to be retained [default: 0]\n",
    "#-i is \n",
    "!filter_otus_from_otu_table.py \\\n",
    "-s 24 \\\n",
    "-i uclust_otu/otu_table.biom \\\n",
    "-o uclust_otu/uclust_otu_filter_25_percent/otu_table_filtered_s24.biom"
   ]
  },
  {
   "cell_type": "code",
   "execution_count": 11,
   "metadata": {},
   "outputs": [],
   "source": [
    "#Summarizing our results (biom table)\n",
    "#Link: http://biom-format.org/documentation/summarizing_biom_tables.html\n",
    "#This explains how to actually use it.\n",
    "#biom summarize-table -h\n",
    "#-i is the input file\n",
    "#-o is An output file-path (It is a text file)\n",
    "#Compare the differences between before and after the 25 OTU minimum filter\n",
    "!biom summarize-table \\\n",
    "-i uclust_otu/uclust_otu_filter_25_percent/otu_table_filtered_s24.biom \\\n",
    "-o uclust_otu/uclust_otu_filter_25_percent/otu_table_summary.txt"
   ]
  },
  {
   "cell_type": "code",
   "execution_count": 12,
   "metadata": {},
   "outputs": [],
   "source": [
    "#Filtering out singletons\n",
    "#Singletons are OTUs that appear only once\n",
    "#Discard all OTUs that are observed fewer than 2 times (i.e., singletons)\n",
    "!filter_otus_from_otu_table.py \\\n",
    "    -i uclust_otu/uclust_otu_filter_25_percent/otu_table_filtered_s48.biom \\\n",
    "    -o uclust_otu/uclust_otu_filter_25_percent/otu_singleton_filter/otu_table_no_singletons.biom \\\n",
    "    -n 2"
   ]
  },
  {
   "cell_type": "code",
   "execution_count": 13,
   "metadata": {},
   "outputs": [],
   "source": [
    "#Summarizing our results (biom table)\n",
    "#Link: http://biom-format.org/documentation/summarizing_biom_tables.html\n",
    "#This explains how to actually use it.\n",
    "!biom summarize-table \\\n",
    "    -i uclust_otu/uclust_otu_filter_25_percent/otu_singleton_filter/otu_table_no_singletons.biom \\\n",
    "    -o uclust_otu/uclust_otu_filter_25_percent/otu_singleton_filter/otu_table_summary.txt"
   ]
  },
  {
   "cell_type": "code",
   "execution_count": null,
   "metadata": {},
   "outputs": [],
   "source": []
  }
 ],
 "metadata": {
  "kernelspec": {
   "display_name": "Python 3",
   "language": "python",
   "name": "python3"
  },
  "language_info": {
   "codemirror_mode": {
    "name": "ipython",
    "version": 3
   },
   "file_extension": ".py",
   "mimetype": "text/x-python",
   "name": "python",
   "nbconvert_exporter": "python",
   "pygments_lexer": "ipython3",
   "version": "3.7.5"
  }
 },
 "nbformat": 4,
 "nbformat_minor": 2
}
