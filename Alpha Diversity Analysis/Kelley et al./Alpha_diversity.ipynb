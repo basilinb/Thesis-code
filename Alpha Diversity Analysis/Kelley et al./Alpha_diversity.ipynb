{
 "cells": [
  {
   "cell_type": "markdown",
   "metadata": {},
   "source": [
    "# Alpha Diversity Analysis"
   ]
  },
  {
   "cell_type": "code",
   "execution_count": 1,
   "metadata": {},
   "outputs": [
    {
     "name": "stderr",
     "output_type": "stream",
     "text": [
      "\n",
      "Attaching package: ‘dplyr’\n",
      "\n",
      "\n",
      "The following objects are masked from ‘package:stats’:\n",
      "\n",
      "    filter, lag\n",
      "\n",
      "\n",
      "The following objects are masked from ‘package:base’:\n",
      "\n",
      "    intersect, setdiff, setequal, union\n",
      "\n",
      "\n",
      "\n",
      "Attaching package: ‘gridExtra’\n",
      "\n",
      "\n",
      "The following object is masked from ‘package:dplyr’:\n",
      "\n",
      "    combine\n",
      "\n",
      "\n"
     ]
    }
   ],
   "source": [
    "library(\"dplyr\")\n",
    "library(\"gridExtra\")\n",
    "library(\"plotrix\")\n",
    "library(\"ggplot2\")"
   ]
  },
  {
   "cell_type": "code",
   "execution_count": 28,
   "metadata": {},
   "outputs": [
    {
     "data": {
      "text/html": [
       "<table>\n",
       "<caption>A data.frame: 119 × 6</caption>\n",
       "<thead>\n",
       "\t<tr><th></th><th scope=col>PD_whole_tree</th><th scope=col>chao1</th><th scope=col>observed_otus</th><th scope=col>Treat</th><th scope=col>Time</th><th scope=col>individual</th></tr>\n",
       "\t<tr><th></th><th scope=col>&lt;dbl&gt;</th><th scope=col>&lt;dbl&gt;</th><th scope=col>&lt;int&gt;</th><th scope=col>&lt;chr&gt;</th><th scope=col>&lt;fct&gt;</th><th scope=col>&lt;int&gt;</th></tr>\n",
       "</thead>\n",
       "<tbody>\n",
       "\t<tr><th scope=row>A01P0A</th><td>118.1525</td><td>1755.888</td><td>1087</td><td>P</td><td>0</td><td> 1</td></tr>\n",
       "\t<tr><th scope=row>A01P4A</th><td>136.3558</td><td>1959.757</td><td>1286</td><td>P</td><td>4</td><td> 1</td></tr>\n",
       "\t<tr><th scope=row>A02P0A</th><td>125.8227</td><td>1734.252</td><td>1158</td><td>P</td><td>0</td><td> 2</td></tr>\n",
       "\t<tr><th scope=row>A02P4A</th><td>128.4522</td><td>1844.950</td><td>1184</td><td>P</td><td>4</td><td> 2</td></tr>\n",
       "\t<tr><th scope=row>A03P0B</th><td>117.3737</td><td>1475.532</td><td>1008</td><td>P</td><td>0</td><td> 3</td></tr>\n",
       "\t<tr><th scope=row>A03P4B</th><td>134.1725</td><td>1970.320</td><td>1342</td><td>P</td><td>4</td><td> 3</td></tr>\n",
       "\t<tr><th scope=row>A04P0B</th><td>138.2460</td><td>1870.902</td><td>1315</td><td>P</td><td>0</td><td> 4</td></tr>\n",
       "\t<tr><th scope=row>A05P0C</th><td>120.1843</td><td>1627.641</td><td>1071</td><td>P</td><td>0</td><td> 5</td></tr>\n",
       "\t<tr><th scope=row>A05P4C</th><td>134.8702</td><td>1930.846</td><td>1267</td><td>P</td><td>4</td><td> 5</td></tr>\n",
       "\t<tr><th scope=row>A06P0C</th><td>101.3749</td><td>1230.887</td><td> 819</td><td>P</td><td>0</td><td> 6</td></tr>\n",
       "\t<tr><th scope=row>A06P4C</th><td>120.2201</td><td>1810.267</td><td>1149</td><td>P</td><td>4</td><td> 6</td></tr>\n",
       "\t<tr><th scope=row>A07P0D</th><td>123.9018</td><td>1686.283</td><td>1115</td><td>P</td><td>0</td><td> 7</td></tr>\n",
       "\t<tr><th scope=row>A07P4D</th><td>138.5710</td><td>2107.627</td><td>1338</td><td>P</td><td>4</td><td> 7</td></tr>\n",
       "\t<tr><th scope=row>A08P0D</th><td>124.7688</td><td>1853.591</td><td>1099</td><td>P</td><td>0</td><td> 8</td></tr>\n",
       "\t<tr><th scope=row>A08P4D</th><td>115.6667</td><td>1628.000</td><td>1007</td><td>P</td><td>4</td><td> 8</td></tr>\n",
       "\t<tr><th scope=row>A09P0E</th><td>130.7915</td><td>1891.272</td><td>1233</td><td>P</td><td>0</td><td> 9</td></tr>\n",
       "\t<tr><th scope=row>A09P4E</th><td>115.2470</td><td>1376.735</td><td> 973</td><td>P</td><td>4</td><td> 9</td></tr>\n",
       "\t<tr><th scope=row>A10P0E</th><td>116.1389</td><td>1698.600</td><td>1107</td><td>P</td><td>0</td><td>10</td></tr>\n",
       "\t<tr><th scope=row>A10P4E</th><td>136.9431</td><td>2040.646</td><td>1354</td><td>P</td><td>4</td><td>10</td></tr>\n",
       "\t<tr><th scope=row>B01L0F</th><td>115.2860</td><td>1762.243</td><td>1031</td><td>L</td><td>0</td><td>11</td></tr>\n",
       "\t<tr><th scope=row>B01L4F</th><td>132.8261</td><td>1960.160</td><td>1338</td><td>L</td><td>4</td><td>11</td></tr>\n",
       "\t<tr><th scope=row>B02L0F</th><td>137.0156</td><td>1969.458</td><td>1385</td><td>L</td><td>0</td><td>12</td></tr>\n",
       "\t<tr><th scope=row>B02L4F</th><td>140.7139</td><td>1880.800</td><td>1402</td><td>L</td><td>4</td><td>12</td></tr>\n",
       "\t<tr><th scope=row>B03L0G</th><td>122.9229</td><td>1748.292</td><td>1199</td><td>L</td><td>0</td><td>13</td></tr>\n",
       "\t<tr><th scope=row>B03L4G</th><td>134.0962</td><td>2011.357</td><td>1309</td><td>L</td><td>4</td><td>13</td></tr>\n",
       "\t<tr><th scope=row>B04L0G</th><td>134.8469</td><td>1815.075</td><td>1272</td><td>L</td><td>0</td><td>14</td></tr>\n",
       "\t<tr><th scope=row>B04L4G</th><td>146.2047</td><td>2019.174</td><td>1395</td><td>L</td><td>4</td><td>14</td></tr>\n",
       "\t<tr><th scope=row>B05L0H</th><td>129.6476</td><td>1843.503</td><td>1229</td><td>L</td><td>0</td><td>15</td></tr>\n",
       "\t<tr><th scope=row>B05L4H</th><td>156.3259</td><td>2163.679</td><td>1680</td><td>L</td><td>4</td><td>15</td></tr>\n",
       "\t<tr><th scope=row>B06L0H</th><td>128.4436</td><td>1727.012</td><td>1238</td><td>L</td><td>0</td><td>16</td></tr>\n",
       "\t<tr><th scope=row>⋮</th><td>⋮</td><td>⋮</td><td>⋮</td><td>⋮</td><td>⋮</td><td>⋮</td></tr>\n",
       "\t<tr><th scope=row>F01L2F</th><td>139.0902</td><td>2108.833</td><td>1389</td><td>L</td><td>2</td><td>11</td></tr>\n",
       "\t<tr><th scope=row>F02L2F</th><td>118.7559</td><td>1568.376</td><td>1066</td><td>L</td><td>2</td><td>12</td></tr>\n",
       "\t<tr><th scope=row>F03L2G</th><td>138.4937</td><td>2086.278</td><td>1387</td><td>L</td><td>2</td><td>13</td></tr>\n",
       "\t<tr><th scope=row>F04L2G</th><td>137.6492</td><td>2097.918</td><td>1362</td><td>L</td><td>2</td><td>14</td></tr>\n",
       "\t<tr><th scope=row>F05L2H</th><td>123.6395</td><td>1811.624</td><td>1108</td><td>L</td><td>2</td><td>15</td></tr>\n",
       "\t<tr><th scope=row>F06L2H</th><td>141.5763</td><td>2058.880</td><td>1399</td><td>L</td><td>2</td><td>16</td></tr>\n",
       "\t<tr><th scope=row>F07L2I</th><td>140.4480</td><td>2083.116</td><td>1392</td><td>L</td><td>2</td><td>17</td></tr>\n",
       "\t<tr><th scope=row>F08L2I</th><td>139.0000</td><td>2072.939</td><td>1369</td><td>L</td><td>2</td><td>18</td></tr>\n",
       "\t<tr><th scope=row>F09L2J</th><td>140.2871</td><td>2110.909</td><td>1370</td><td>L</td><td>2</td><td>19</td></tr>\n",
       "\t<tr><th scope=row>F10L2J</th><td>134.5281</td><td>1925.729</td><td>1279</td><td>L</td><td>2</td><td>20</td></tr>\n",
       "\t<tr><th scope=row>G01P3A</th><td>135.9121</td><td>1940.525</td><td>1315</td><td>P</td><td>3</td><td> 1</td></tr>\n",
       "\t<tr><th scope=row>G02P3A</th><td>141.1795</td><td>2039.183</td><td>1384</td><td>P</td><td>3</td><td> 2</td></tr>\n",
       "\t<tr><th scope=row>G03P3B</th><td>133.1894</td><td>2010.727</td><td>1258</td><td>P</td><td>3</td><td> 3</td></tr>\n",
       "\t<tr><th scope=row>G04P3B</th><td>148.1472</td><td>2075.350</td><td>1504</td><td>P</td><td>3</td><td> 4</td></tr>\n",
       "\t<tr><th scope=row>G05P3C</th><td>142.1175</td><td>1945.188</td><td>1350</td><td>P</td><td>3</td><td> 5</td></tr>\n",
       "\t<tr><th scope=row>G06P3C</th><td>128.4649</td><td>1856.172</td><td>1313</td><td>P</td><td>3</td><td> 6</td></tr>\n",
       "\t<tr><th scope=row>G07P3D</th><td>150.8088</td><td>2066.710</td><td>1526</td><td>P</td><td>3</td><td> 7</td></tr>\n",
       "\t<tr><th scope=row>G08P3D</th><td>148.3251</td><td>2091.899</td><td>1469</td><td>P</td><td>3</td><td> 8</td></tr>\n",
       "\t<tr><th scope=row>G09P3E</th><td>127.6467</td><td>1854.203</td><td>1113</td><td>P</td><td>3</td><td> 9</td></tr>\n",
       "\t<tr><th scope=row>G10P3E</th><td>114.4628</td><td>1606.031</td><td> 989</td><td>P</td><td>3</td><td>10</td></tr>\n",
       "\t<tr><th scope=row>H01L3F</th><td>118.1184</td><td>1602.545</td><td>1038</td><td>L</td><td>3</td><td>11</td></tr>\n",
       "\t<tr><th scope=row>H02L3F</th><td>113.9788</td><td>1757.362</td><td>1061</td><td>L</td><td>3</td><td>12</td></tr>\n",
       "\t<tr><th scope=row>H03L3G</th><td>127.7007</td><td>1879.241</td><td>1289</td><td>L</td><td>3</td><td>13</td></tr>\n",
       "\t<tr><th scope=row>H04L3G</th><td>142.7341</td><td>2153.842</td><td>1446</td><td>L</td><td>3</td><td>14</td></tr>\n",
       "\t<tr><th scope=row>H05L3H</th><td>125.3525</td><td>1809.390</td><td>1210</td><td>L</td><td>3</td><td>15</td></tr>\n",
       "\t<tr><th scope=row>H06L3H</th><td>136.2541</td><td>1963.083</td><td>1347</td><td>L</td><td>3</td><td>16</td></tr>\n",
       "\t<tr><th scope=row>H07L3I</th><td>129.5870</td><td>1825.881</td><td>1236</td><td>L</td><td>3</td><td>17</td></tr>\n",
       "\t<tr><th scope=row>H08L3I</th><td>121.3564</td><td>1817.843</td><td>1115</td><td>L</td><td>3</td><td>18</td></tr>\n",
       "\t<tr><th scope=row>H09L3J</th><td>131.2709</td><td>2021.524</td><td>1226</td><td>L</td><td>3</td><td>19</td></tr>\n",
       "\t<tr><th scope=row>H10L3J</th><td>122.5536</td><td>2001.851</td><td>1152</td><td>L</td><td>3</td><td>20</td></tr>\n",
       "</tbody>\n",
       "</table>\n"
      ],
      "text/latex": [
       "A data.frame: 119 × 6\n",
       "\\begin{tabular}{r|llllll}\n",
       "  & PD\\_whole\\_tree & chao1 & observed\\_otus & Treat & Time & individual\\\\\n",
       "  & <dbl> & <dbl> & <int> & <chr> & <fct> & <int>\\\\\n",
       "\\hline\n",
       "\tA01P0A & 118.1525 & 1755.888 & 1087 & P & 0 &  1\\\\\n",
       "\tA01P4A & 136.3558 & 1959.757 & 1286 & P & 4 &  1\\\\\n",
       "\tA02P0A & 125.8227 & 1734.252 & 1158 & P & 0 &  2\\\\\n",
       "\tA02P4A & 128.4522 & 1844.950 & 1184 & P & 4 &  2\\\\\n",
       "\tA03P0B & 117.3737 & 1475.532 & 1008 & P & 0 &  3\\\\\n",
       "\tA03P4B & 134.1725 & 1970.320 & 1342 & P & 4 &  3\\\\\n",
       "\tA04P0B & 138.2460 & 1870.902 & 1315 & P & 0 &  4\\\\\n",
       "\tA05P0C & 120.1843 & 1627.641 & 1071 & P & 0 &  5\\\\\n",
       "\tA05P4C & 134.8702 & 1930.846 & 1267 & P & 4 &  5\\\\\n",
       "\tA06P0C & 101.3749 & 1230.887 &  819 & P & 0 &  6\\\\\n",
       "\tA06P4C & 120.2201 & 1810.267 & 1149 & P & 4 &  6\\\\\n",
       "\tA07P0D & 123.9018 & 1686.283 & 1115 & P & 0 &  7\\\\\n",
       "\tA07P4D & 138.5710 & 2107.627 & 1338 & P & 4 &  7\\\\\n",
       "\tA08P0D & 124.7688 & 1853.591 & 1099 & P & 0 &  8\\\\\n",
       "\tA08P4D & 115.6667 & 1628.000 & 1007 & P & 4 &  8\\\\\n",
       "\tA09P0E & 130.7915 & 1891.272 & 1233 & P & 0 &  9\\\\\n",
       "\tA09P4E & 115.2470 & 1376.735 &  973 & P & 4 &  9\\\\\n",
       "\tA10P0E & 116.1389 & 1698.600 & 1107 & P & 0 & 10\\\\\n",
       "\tA10P4E & 136.9431 & 2040.646 & 1354 & P & 4 & 10\\\\\n",
       "\tB01L0F & 115.2860 & 1762.243 & 1031 & L & 0 & 11\\\\\n",
       "\tB01L4F & 132.8261 & 1960.160 & 1338 & L & 4 & 11\\\\\n",
       "\tB02L0F & 137.0156 & 1969.458 & 1385 & L & 0 & 12\\\\\n",
       "\tB02L4F & 140.7139 & 1880.800 & 1402 & L & 4 & 12\\\\\n",
       "\tB03L0G & 122.9229 & 1748.292 & 1199 & L & 0 & 13\\\\\n",
       "\tB03L4G & 134.0962 & 2011.357 & 1309 & L & 4 & 13\\\\\n",
       "\tB04L0G & 134.8469 & 1815.075 & 1272 & L & 0 & 14\\\\\n",
       "\tB04L4G & 146.2047 & 2019.174 & 1395 & L & 4 & 14\\\\\n",
       "\tB05L0H & 129.6476 & 1843.503 & 1229 & L & 0 & 15\\\\\n",
       "\tB05L4H & 156.3259 & 2163.679 & 1680 & L & 4 & 15\\\\\n",
       "\tB06L0H & 128.4436 & 1727.012 & 1238 & L & 0 & 16\\\\\n",
       "\t⋮ & ⋮ & ⋮ & ⋮ & ⋮ & ⋮ & ⋮\\\\\n",
       "\tF01L2F & 139.0902 & 2108.833 & 1389 & L & 2 & 11\\\\\n",
       "\tF02L2F & 118.7559 & 1568.376 & 1066 & L & 2 & 12\\\\\n",
       "\tF03L2G & 138.4937 & 2086.278 & 1387 & L & 2 & 13\\\\\n",
       "\tF04L2G & 137.6492 & 2097.918 & 1362 & L & 2 & 14\\\\\n",
       "\tF05L2H & 123.6395 & 1811.624 & 1108 & L & 2 & 15\\\\\n",
       "\tF06L2H & 141.5763 & 2058.880 & 1399 & L & 2 & 16\\\\\n",
       "\tF07L2I & 140.4480 & 2083.116 & 1392 & L & 2 & 17\\\\\n",
       "\tF08L2I & 139.0000 & 2072.939 & 1369 & L & 2 & 18\\\\\n",
       "\tF09L2J & 140.2871 & 2110.909 & 1370 & L & 2 & 19\\\\\n",
       "\tF10L2J & 134.5281 & 1925.729 & 1279 & L & 2 & 20\\\\\n",
       "\tG01P3A & 135.9121 & 1940.525 & 1315 & P & 3 &  1\\\\\n",
       "\tG02P3A & 141.1795 & 2039.183 & 1384 & P & 3 &  2\\\\\n",
       "\tG03P3B & 133.1894 & 2010.727 & 1258 & P & 3 &  3\\\\\n",
       "\tG04P3B & 148.1472 & 2075.350 & 1504 & P & 3 &  4\\\\\n",
       "\tG05P3C & 142.1175 & 1945.188 & 1350 & P & 3 &  5\\\\\n",
       "\tG06P3C & 128.4649 & 1856.172 & 1313 & P & 3 &  6\\\\\n",
       "\tG07P3D & 150.8088 & 2066.710 & 1526 & P & 3 &  7\\\\\n",
       "\tG08P3D & 148.3251 & 2091.899 & 1469 & P & 3 &  8\\\\\n",
       "\tG09P3E & 127.6467 & 1854.203 & 1113 & P & 3 &  9\\\\\n",
       "\tG10P3E & 114.4628 & 1606.031 &  989 & P & 3 & 10\\\\\n",
       "\tH01L3F & 118.1184 & 1602.545 & 1038 & L & 3 & 11\\\\\n",
       "\tH02L3F & 113.9788 & 1757.362 & 1061 & L & 3 & 12\\\\\n",
       "\tH03L3G & 127.7007 & 1879.241 & 1289 & L & 3 & 13\\\\\n",
       "\tH04L3G & 142.7341 & 2153.842 & 1446 & L & 3 & 14\\\\\n",
       "\tH05L3H & 125.3525 & 1809.390 & 1210 & L & 3 & 15\\\\\n",
       "\tH06L3H & 136.2541 & 1963.083 & 1347 & L & 3 & 16\\\\\n",
       "\tH07L3I & 129.5870 & 1825.881 & 1236 & L & 3 & 17\\\\\n",
       "\tH08L3I & 121.3564 & 1817.843 & 1115 & L & 3 & 18\\\\\n",
       "\tH09L3J & 131.2709 & 2021.524 & 1226 & L & 3 & 19\\\\\n",
       "\tH10L3J & 122.5536 & 2001.851 & 1152 & L & 3 & 20\\\\\n",
       "\\end{tabular}\n"
      ],
      "text/markdown": [
       "\n",
       "A data.frame: 119 × 6\n",
       "\n",
       "| <!--/--> | PD_whole_tree &lt;dbl&gt; | chao1 &lt;dbl&gt; | observed_otus &lt;int&gt; | Treat &lt;chr&gt; | Time &lt;fct&gt; | individual &lt;int&gt; |\n",
       "|---|---|---|---|---|---|---|\n",
       "| A01P0A | 118.1525 | 1755.888 | 1087 | P | 0 |  1 |\n",
       "| A01P4A | 136.3558 | 1959.757 | 1286 | P | 4 |  1 |\n",
       "| A02P0A | 125.8227 | 1734.252 | 1158 | P | 0 |  2 |\n",
       "| A02P4A | 128.4522 | 1844.950 | 1184 | P | 4 |  2 |\n",
       "| A03P0B | 117.3737 | 1475.532 | 1008 | P | 0 |  3 |\n",
       "| A03P4B | 134.1725 | 1970.320 | 1342 | P | 4 |  3 |\n",
       "| A04P0B | 138.2460 | 1870.902 | 1315 | P | 0 |  4 |\n",
       "| A05P0C | 120.1843 | 1627.641 | 1071 | P | 0 |  5 |\n",
       "| A05P4C | 134.8702 | 1930.846 | 1267 | P | 4 |  5 |\n",
       "| A06P0C | 101.3749 | 1230.887 |  819 | P | 0 |  6 |\n",
       "| A06P4C | 120.2201 | 1810.267 | 1149 | P | 4 |  6 |\n",
       "| A07P0D | 123.9018 | 1686.283 | 1115 | P | 0 |  7 |\n",
       "| A07P4D | 138.5710 | 2107.627 | 1338 | P | 4 |  7 |\n",
       "| A08P0D | 124.7688 | 1853.591 | 1099 | P | 0 |  8 |\n",
       "| A08P4D | 115.6667 | 1628.000 | 1007 | P | 4 |  8 |\n",
       "| A09P0E | 130.7915 | 1891.272 | 1233 | P | 0 |  9 |\n",
       "| A09P4E | 115.2470 | 1376.735 |  973 | P | 4 |  9 |\n",
       "| A10P0E | 116.1389 | 1698.600 | 1107 | P | 0 | 10 |\n",
       "| A10P4E | 136.9431 | 2040.646 | 1354 | P | 4 | 10 |\n",
       "| B01L0F | 115.2860 | 1762.243 | 1031 | L | 0 | 11 |\n",
       "| B01L4F | 132.8261 | 1960.160 | 1338 | L | 4 | 11 |\n",
       "| B02L0F | 137.0156 | 1969.458 | 1385 | L | 0 | 12 |\n",
       "| B02L4F | 140.7139 | 1880.800 | 1402 | L | 4 | 12 |\n",
       "| B03L0G | 122.9229 | 1748.292 | 1199 | L | 0 | 13 |\n",
       "| B03L4G | 134.0962 | 2011.357 | 1309 | L | 4 | 13 |\n",
       "| B04L0G | 134.8469 | 1815.075 | 1272 | L | 0 | 14 |\n",
       "| B04L4G | 146.2047 | 2019.174 | 1395 | L | 4 | 14 |\n",
       "| B05L0H | 129.6476 | 1843.503 | 1229 | L | 0 | 15 |\n",
       "| B05L4H | 156.3259 | 2163.679 | 1680 | L | 4 | 15 |\n",
       "| B06L0H | 128.4436 | 1727.012 | 1238 | L | 0 | 16 |\n",
       "| ⋮ | ⋮ | ⋮ | ⋮ | ⋮ | ⋮ | ⋮ |\n",
       "| F01L2F | 139.0902 | 2108.833 | 1389 | L | 2 | 11 |\n",
       "| F02L2F | 118.7559 | 1568.376 | 1066 | L | 2 | 12 |\n",
       "| F03L2G | 138.4937 | 2086.278 | 1387 | L | 2 | 13 |\n",
       "| F04L2G | 137.6492 | 2097.918 | 1362 | L | 2 | 14 |\n",
       "| F05L2H | 123.6395 | 1811.624 | 1108 | L | 2 | 15 |\n",
       "| F06L2H | 141.5763 | 2058.880 | 1399 | L | 2 | 16 |\n",
       "| F07L2I | 140.4480 | 2083.116 | 1392 | L | 2 | 17 |\n",
       "| F08L2I | 139.0000 | 2072.939 | 1369 | L | 2 | 18 |\n",
       "| F09L2J | 140.2871 | 2110.909 | 1370 | L | 2 | 19 |\n",
       "| F10L2J | 134.5281 | 1925.729 | 1279 | L | 2 | 20 |\n",
       "| G01P3A | 135.9121 | 1940.525 | 1315 | P | 3 |  1 |\n",
       "| G02P3A | 141.1795 | 2039.183 | 1384 | P | 3 |  2 |\n",
       "| G03P3B | 133.1894 | 2010.727 | 1258 | P | 3 |  3 |\n",
       "| G04P3B | 148.1472 | 2075.350 | 1504 | P | 3 |  4 |\n",
       "| G05P3C | 142.1175 | 1945.188 | 1350 | P | 3 |  5 |\n",
       "| G06P3C | 128.4649 | 1856.172 | 1313 | P | 3 |  6 |\n",
       "| G07P3D | 150.8088 | 2066.710 | 1526 | P | 3 |  7 |\n",
       "| G08P3D | 148.3251 | 2091.899 | 1469 | P | 3 |  8 |\n",
       "| G09P3E | 127.6467 | 1854.203 | 1113 | P | 3 |  9 |\n",
       "| G10P3E | 114.4628 | 1606.031 |  989 | P | 3 | 10 |\n",
       "| H01L3F | 118.1184 | 1602.545 | 1038 | L | 3 | 11 |\n",
       "| H02L3F | 113.9788 | 1757.362 | 1061 | L | 3 | 12 |\n",
       "| H03L3G | 127.7007 | 1879.241 | 1289 | L | 3 | 13 |\n",
       "| H04L3G | 142.7341 | 2153.842 | 1446 | L | 3 | 14 |\n",
       "| H05L3H | 125.3525 | 1809.390 | 1210 | L | 3 | 15 |\n",
       "| H06L3H | 136.2541 | 1963.083 | 1347 | L | 3 | 16 |\n",
       "| H07L3I | 129.5870 | 1825.881 | 1236 | L | 3 | 17 |\n",
       "| H08L3I | 121.3564 | 1817.843 | 1115 | L | 3 | 18 |\n",
       "| H09L3J | 131.2709 | 2021.524 | 1226 | L | 3 | 19 |\n",
       "| H10L3J | 122.5536 | 2001.851 | 1152 | L | 3 | 20 |\n",
       "\n"
      ],
      "text/plain": [
       "       PD_whole_tree chao1    observed_otus Treat Time individual\n",
       "A01P0A 118.1525      1755.888 1087          P     0     1        \n",
       "A01P4A 136.3558      1959.757 1286          P     4     1        \n",
       "A02P0A 125.8227      1734.252 1158          P     0     2        \n",
       "A02P4A 128.4522      1844.950 1184          P     4     2        \n",
       "A03P0B 117.3737      1475.532 1008          P     0     3        \n",
       "A03P4B 134.1725      1970.320 1342          P     4     3        \n",
       "A04P0B 138.2460      1870.902 1315          P     0     4        \n",
       "A05P0C 120.1843      1627.641 1071          P     0     5        \n",
       "A05P4C 134.8702      1930.846 1267          P     4     5        \n",
       "A06P0C 101.3749      1230.887  819          P     0     6        \n",
       "A06P4C 120.2201      1810.267 1149          P     4     6        \n",
       "A07P0D 123.9018      1686.283 1115          P     0     7        \n",
       "A07P4D 138.5710      2107.627 1338          P     4     7        \n",
       "A08P0D 124.7688      1853.591 1099          P     0     8        \n",
       "A08P4D 115.6667      1628.000 1007          P     4     8        \n",
       "A09P0E 130.7915      1891.272 1233          P     0     9        \n",
       "A09P4E 115.2470      1376.735  973          P     4     9        \n",
       "A10P0E 116.1389      1698.600 1107          P     0    10        \n",
       "A10P4E 136.9431      2040.646 1354          P     4    10        \n",
       "B01L0F 115.2860      1762.243 1031          L     0    11        \n",
       "B01L4F 132.8261      1960.160 1338          L     4    11        \n",
       "B02L0F 137.0156      1969.458 1385          L     0    12        \n",
       "B02L4F 140.7139      1880.800 1402          L     4    12        \n",
       "B03L0G 122.9229      1748.292 1199          L     0    13        \n",
       "B03L4G 134.0962      2011.357 1309          L     4    13        \n",
       "B04L0G 134.8469      1815.075 1272          L     0    14        \n",
       "B04L4G 146.2047      2019.174 1395          L     4    14        \n",
       "B05L0H 129.6476      1843.503 1229          L     0    15        \n",
       "B05L4H 156.3259      2163.679 1680          L     4    15        \n",
       "B06L0H 128.4436      1727.012 1238          L     0    16        \n",
       "⋮      ⋮             ⋮        ⋮             ⋮     ⋮    ⋮         \n",
       "F01L2F 139.0902      2108.833 1389          L     2    11        \n",
       "F02L2F 118.7559      1568.376 1066          L     2    12        \n",
       "F03L2G 138.4937      2086.278 1387          L     2    13        \n",
       "F04L2G 137.6492      2097.918 1362          L     2    14        \n",
       "F05L2H 123.6395      1811.624 1108          L     2    15        \n",
       "F06L2H 141.5763      2058.880 1399          L     2    16        \n",
       "F07L2I 140.4480      2083.116 1392          L     2    17        \n",
       "F08L2I 139.0000      2072.939 1369          L     2    18        \n",
       "F09L2J 140.2871      2110.909 1370          L     2    19        \n",
       "F10L2J 134.5281      1925.729 1279          L     2    20        \n",
       "G01P3A 135.9121      1940.525 1315          P     3     1        \n",
       "G02P3A 141.1795      2039.183 1384          P     3     2        \n",
       "G03P3B 133.1894      2010.727 1258          P     3     3        \n",
       "G04P3B 148.1472      2075.350 1504          P     3     4        \n",
       "G05P3C 142.1175      1945.188 1350          P     3     5        \n",
       "G06P3C 128.4649      1856.172 1313          P     3     6        \n",
       "G07P3D 150.8088      2066.710 1526          P     3     7        \n",
       "G08P3D 148.3251      2091.899 1469          P     3     8        \n",
       "G09P3E 127.6467      1854.203 1113          P     3     9        \n",
       "G10P3E 114.4628      1606.031  989          P     3    10        \n",
       "H01L3F 118.1184      1602.545 1038          L     3    11        \n",
       "H02L3F 113.9788      1757.362 1061          L     3    12        \n",
       "H03L3G 127.7007      1879.241 1289          L     3    13        \n",
       "H04L3G 142.7341      2153.842 1446          L     3    14        \n",
       "H05L3H 125.3525      1809.390 1210          L     3    15        \n",
       "H06L3H 136.2541      1963.083 1347          L     3    16        \n",
       "H07L3I 129.5870      1825.881 1236          L     3    17        \n",
       "H08L3I 121.3564      1817.843 1115          L     3    18        \n",
       "H09L3J 131.2709      2021.524 1226          L     3    19        \n",
       "H10L3J 122.5536      2001.851 1152          L     3    20        "
      ]
     },
     "metadata": {},
     "output_type": "display_data"
    }
   ],
   "source": [
    "# Opening the file with alpha diversity metric Faiths PD and Observed OTUs\n",
    "sigtab = read.csv(\"adiv_pd.txt\",sep = \"\\t\", row.names = 1)\n",
    "sigtab = as.data.frame.matrix(sigtab) \n",
    "sigtab$Time = as.factor(sigtab$Time)\n",
    "sigtab"
   ]
  },
  {
   "cell_type": "code",
   "execution_count": 34,
   "metadata": {},
   "outputs": [],
   "source": [
    "# Converting the Metric columns to numeric\n",
    "sigtab$PD_whole = as.numeric(sigtab$PD_whole_tree)\n",
    "sigtab$observed = as.numeric(sigtab$observed_otus)\n",
    "sigtab$Time = as.numeric(sigtab$Time)"
   ]
  },
  {
   "cell_type": "code",
   "execution_count": 35,
   "metadata": {},
   "outputs": [],
   "source": [
    "# Subset the PLacebo and Letrozole groups \n",
    "placebo = subset(sigtab, Treat != 'L')\n",
    "letrozole = subset(sigtab, Treat != 'P')"
   ]
  },
  {
   "cell_type": "markdown",
   "metadata": {},
   "source": [
    "## Pearsons Correlations"
   ]
  },
  {
   "cell_type": "code",
   "execution_count": 46,
   "metadata": {},
   "outputs": [
    {
     "name": "stdout",
     "output_type": "stream",
     "text": [
      "[1] \"Faith's PD for placebo\"\n",
      "[1] \"#p value is 0.0032  #r value is 0.3772668\"\n"
     ]
    },
    {
     "data": {
      "text/plain": [
       "\n",
       "\tPearson's product-moment correlation\n",
       "\n",
       "data:  placebo$PD_whole_tree and placebo$Time\n",
       "t = 3.0756, df = 57, p-value = 0.003224\n",
       "alternative hypothesis: true correlation is not equal to 0\n",
       "95 percent confidence interval:\n",
       " 0.1341445 0.5775511\n",
       "sample estimates:\n",
       "      cor \n",
       "0.3772668 \n"
      ]
     },
     "metadata": {},
     "output_type": "display_data"
    },
    {
     "name": "stdout",
     "output_type": "stream",
     "text": [
      "[1] \"Faith's PD for letrozole\"\n",
      "[1] \"#p value is 0.9878 #r value is 0.002016013\"\n"
     ]
    },
    {
     "data": {
      "text/plain": [
       "\n",
       "\tPearson's product-moment correlation\n",
       "\n",
       "data:  letrozole$PD_whole_tree and letrozole$Time\n",
       "t = 0.015354, df = 58, p-value = 0.9878\n",
       "alternative hypothesis: true correlation is not equal to 0\n",
       "95 percent confidence interval:\n",
       " -0.2520377  0.2558098\n",
       "sample estimates:\n",
       "        cor \n",
       "0.002016013 \n"
      ]
     },
     "metadata": {},
     "output_type": "display_data"
    },
    {
     "name": "stdout",
     "output_type": "stream",
     "text": [
      "[1] \"Observed Otus for placebo\"\n",
      "[1] \"#p value is 0.0045  #r value is 0.3644626\"\n"
     ]
    },
    {
     "data": {
      "text/plain": [
       "\n",
       "\tPearson's product-moment correlation\n",
       "\n",
       "data:  placebo$observed_otus and placebo$Time\n",
       "t = 2.9549, df = 57, p-value = 0.004541\n",
       "alternative hypothesis: true correlation is not equal to 0\n",
       "95 percent confidence interval:\n",
       " 0.1195369 0.5675720\n",
       "sample estimates:\n",
       "      cor \n",
       "0.3644626 \n"
      ]
     },
     "metadata": {},
     "output_type": "display_data"
    },
    {
     "name": "stdout",
     "output_type": "stream",
     "text": [
      "[1] \"Observed Otus for letrozole\"\n",
      "[1] \"#p value is 0.9823 #r value is 0.0.002918877\"\n"
     ]
    },
    {
     "data": {
      "text/plain": [
       "\n",
       "\tPearson's product-moment correlation\n",
       "\n",
       "data:  letrozole$observed_otus and letrozole$Time\n",
       "t = 0.02223, df = 58, p-value = 0.9823\n",
       "alternative hypothesis: true correlation is not equal to 0\n",
       "95 percent confidence interval:\n",
       " -0.2511920  0.2566534\n",
       "sample estimates:\n",
       "        cor \n",
       "0.002918877 \n"
      ]
     },
     "metadata": {},
     "output_type": "display_data"
    }
   ],
   "source": [
    "print(\"Faith's PD for placebo\")\n",
    "print(\"#p value is 0.0032  #r value is 0.3772668\")\n",
    "cor.test(x = placebo$PD_whole_tree, y = placebo$Time, method=\"pearson\")\n",
    "\n",
    "print(\"Faith's PD for letrozole\")\n",
    "print(\"#p value is 0.9878 #r value is 0.002016013\")\n",
    "cor.test(x = letrozole$PD_whole_tree, y = letrozole$Time, method=\"pearson\")\n",
    "\n",
    "print(\"Observed Otus for placebo\")\n",
    "print(\"#p value is 0.0045  #r value is 0.3644626\")\n",
    "cor.test(x = placebo$observed_otus, y = placebo$Time, method=\"pearson\")\n",
    "\n",
    "print(\"Observed Otus for letrozole\")\n",
    "print(\"#p value is 0.9823 #r value is 0.0.002918877\")\n",
    "cor.test(x = letrozole$observed_otus, y = letrozole$Time, method=\"pearson\")"
   ]
  },
  {
   "cell_type": "code",
   "execution_count": 40,
   "metadata": {
    "scrolled": false
   },
   "outputs": [
    {
     "name": "stdout",
     "output_type": "stream",
     "text": [
      "[1] \"#For faith's PD placebo\"\n"
     ]
    },
    {
     "data": {
      "text/plain": [
       "\n",
       "Error: placebo$individual\n",
       "                     Df Sum Sq Mean Sq\n",
       "factor(placebo$Time)  1  4.158   4.158\n",
       "\n",
       "Error: Within\n",
       "                     Df Sum Sq Mean Sq F value  Pr(>F)   \n",
       "factor(placebo$Time)  5   2474   494.8   4.033 0.00362 **\n",
       "Residuals            52   6380   122.7                   \n",
       "---\n",
       "Signif. codes:  0 ‘***’ 0.001 ‘**’ 0.01 ‘*’ 0.05 ‘.’ 0.1 ‘ ’ 1"
      ]
     },
     "metadata": {},
     "output_type": "display_data"
    },
    {
     "name": "stdout",
     "output_type": "stream",
     "text": [
      "[1] \"#For observed Otu placebo\"\n"
     ]
    },
    {
     "data": {
      "text/plain": [
       "\n",
       "Error: placebo$individual\n",
       "                     Df Sum Sq Mean Sq\n",
       "factor(placebo$Time)  1   3254    3254\n",
       "\n",
       "Error: Within\n",
       "                     Df  Sum Sq Mean Sq F value  Pr(>F)   \n",
       "factor(placebo$Time)  5  581234  116247   4.674 0.00134 **\n",
       "Residuals            52 1293153   24868                   \n",
       "---\n",
       "Signif. codes:  0 ‘***’ 0.001 ‘**’ 0.01 ‘*’ 0.05 ‘.’ 0.1 ‘ ’ 1"
      ]
     },
     "metadata": {},
     "output_type": "display_data"
    },
    {
     "name": "stdout",
     "output_type": "stream",
     "text": [
      "[1] \"#For faith's PD letrozole\"\n"
     ]
    },
    {
     "data": {
      "text/plain": [
       "\n",
       "Error: letrozole$individual\n",
       "          Df Sum Sq Mean Sq F value Pr(>F)\n",
       "Residuals  1  82.04   82.04               \n",
       "\n",
       "Error: Within\n",
       "                       Df Sum Sq Mean Sq F value Pr(>F)\n",
       "factor(letrozole$Time)  5    715   143.0    0.89  0.494\n",
       "Residuals              53   8512   160.6               "
      ]
     },
     "metadata": {},
     "output_type": "display_data"
    },
    {
     "name": "stdout",
     "output_type": "stream",
     "text": [
      "[1] \"#For observed Otu letrozole\"\n"
     ]
    },
    {
     "data": {
      "text/plain": [
       "\n",
       "Error: letrozole$individual\n",
       "          Df Sum Sq Mean Sq F value Pr(>F)\n",
       "Residuals  1   1858    1858               \n",
       "\n",
       "Error: Within\n",
       "                       Df  Sum Sq Mean Sq F value Pr(>F)\n",
       "factor(letrozole$Time)  5  152790   30558   0.831  0.533\n",
       "Residuals              53 1948676   36767               "
      ]
     },
     "metadata": {},
     "output_type": "display_data"
    }
   ],
   "source": [
    "print(\"#For faith's PD placebo\")\n",
    "placebo_aov_PD <- aov(placebo$PD_whole_tree ~ factor(placebo$Time) + Error(placebo$individual),data=placebo)\n",
    "summary(placebo_aov_PD) #P = 0.003\n",
    "\n",
    "print(\"#For observed Otu placebo\")\n",
    "placebo_aov_otu <- aov(placebo$observed_otus ~ factor(placebo$Time) + Error(placebo$individual),data=placebo)\n",
    "summary(placebo_aov_otu) #P = 0.001\n",
    "\n",
    "print(\"#For faith's PD letrozole\")\n",
    "letrozole_aov_PD <- aov(letrozole$PD_whole_tree ~ factor(letrozole$Time) + Error(letrozole$individual),data=letrozole)\n",
    "summary(letrozole_aov_PD) #P = 0.494\n",
    "\n",
    "print(\"#For observed Otu letrozole\")\n",
    "letrozole_aov_otu <- aov(letrozole$observed_otus ~ factor(letrozole$Time) + Error(letrozole$individual),data=letrozole)\n",
    "summary(letrozole_aov_otu) #P = 0.533"
   ]
  },
  {
   "cell_type": "markdown",
   "metadata": {},
   "source": [
    "## Plotting our models"
   ]
  },
  {
   "cell_type": "code",
   "execution_count": 88,
   "metadata": {},
   "outputs": [],
   "source": [
    "e <- ggplot(data = placebo, aes(x = Time, y = PD_whole_tree, ymin = 80, ymax = 130 )) + \n",
    "    geom_point() +\n",
    "    geom_rect(aes(xmin = 3, xmax = 5, ymin = 40, ymax = 90), color = \"black\", fill = \"white\") +\n",
    "    stat_smooth(method = \"lm\", col = \"black\") + #This is how you get that nice linear line to form\n",
    "    annotate(\"text\", size = 3, x= 4, y = 62.5 ,label = \"LM: r = 0.377\\np = 0.003\\n RM-ANOVA\\n p= 0.003\") +\n",
    "    theme_classic() +\n",
    "    xlab(\"Week\") + ylab(\"Diveristy (Faith's PD)\") + ggtitle(\"Placebo\")\n",
    "\n",
    "f <- ggplot(data = letrozole, aes(x = Time, y = PD_whole_tree, ymin = 80, ymax = 130 )) + \n",
    "    geom_point() +\n",
    "    geom_rect(aes(xmin = 3, xmax = 5, ymin = 40, ymax = 90), color = \"black\", fill = \"white\") +\n",
    "    stat_smooth(method = \"lm\", col = \"black\") + #This is how you get that nice linear line to form\n",
    "    annotate(\"text\", size = 3, x= 4, y = 62.5 ,label = \"LM: r = 0.002\\np = 0.987\\n RM-ANOVA\\n p= 0.494\") +\n",
    "    theme_classic() +\n",
    "    xlab(\"Week\") + ylab(\"Diveristy (Faith's PD)\") + ggtitle(\"Letrozole\")\n",
    "\n",
    "g <- ggplot(data = placebo, aes(x = Time, y = observed_otus, ymin = 80, ymax = 130 )) + \n",
    "    geom_point() +\n",
    "    geom_rect(aes(xmin = 3, xmax = 5, ymin = 60, ymax = 500), color = \"black\", fill = \"white\") +\n",
    "    stat_smooth(method = \"lm\", col = \"black\") + #This is how you get that nice linear line to form\n",
    "    annotate(\"text\", size = 3, x= 4, y = 272.5 ,label = \"LM: r = 0.364\\np = 0.004\\n RM-ANOVA\\n p= 0.001\") +\n",
    "    theme_classic() +\n",
    "    xlab(\"Week\") + ylab(\"Observed OTUs\") + ggtitle(\"Placebo\")\n",
    "\n",
    "h <- ggplot(data = letrozole, aes(x = Time, y = observed_otus, ymin = 80, ymax = 130 )) + \n",
    "    geom_point() +\n",
    "    geom_rect(aes(xmin = 3, xmax = 5, ymin = 60, ymax = 500), color = \"black\", fill = \"white\") +\n",
    "    stat_smooth(method = \"lm\", col = \"black\") + #This is how you get that nice linear line to form\n",
    "    annotate(\"text\", size = 3, x= 4, y = 272.5 ,label = \"LM: r = 0.002\\np = 0.982\\n RM-ANOVA\\n p= 0.533\") +\n",
    "    theme_classic() +\n",
    "    xlab(\"Week\") + ylab(\"Observed OTUs\") + ggtitle(\"Letrozole\")"
   ]
  },
  {
   "cell_type": "code",
   "execution_count": 90,
   "metadata": {},
   "outputs": [
    {
     "name": "stderr",
     "output_type": "stream",
     "text": [
      "`geom_smooth()` using formula 'y ~ x'\n",
      "\n",
      "`geom_smooth()` using formula 'y ~ x'\n",
      "\n",
      "`geom_smooth()` using formula 'y ~ x'\n",
      "\n",
      "`geom_smooth()` using formula 'y ~ x'\n",
      "\n"
     ]
    },
    {
     "data": {
      "text/html": [
       "<strong>png:</strong> 2"
      ],
      "text/latex": [
       "\\textbf{png:} 2"
      ],
      "text/markdown": [
       "**png:** 2"
      ],
      "text/plain": [
       "png \n",
       "  2 "
      ]
     },
     "metadata": {},
     "output_type": "display_data"
    }
   ],
   "source": [
    "pdf(\"pdf_alpha_new.pdf\", width = 8, height = 8) # Open a new pdf file\n",
    "grid.arrange(e, f, g, h , nrow = 2)\n",
    "dev.off() # Close the file"
   ]
  },
  {
   "attachments": {
    "pdf_alpha%28kelleyetal.%29.png": {
     "image/png": "[encoded data removed]"
    }
   },
   "cell_type": "markdown",
   "metadata": {},
   "source": [
    "![pdf_alpha%28kelleyetal.%29.png](attachment:pdf_alpha%28kelleyetal.%29.png)"
   ]
  },
  {
   "cell_type": "code",
   "execution_count": null,
   "metadata": {},
   "outputs": [],
   "source": []
  }
 ],
 "metadata": {
  "kernelspec": {
   "display_name": "R3.5",
   "language": "R",
   "name": "r_3.5"
  },
  "language_info": {
   "codemirror_mode": "r",
   "file_extension": ".r",
   "mimetype": "text/x-r-source",
   "name": "R",
   "pygments_lexer": "r",
   "version": "3.5.1"
  }
 },
 "nbformat": 4,
 "nbformat_minor": 2
}
